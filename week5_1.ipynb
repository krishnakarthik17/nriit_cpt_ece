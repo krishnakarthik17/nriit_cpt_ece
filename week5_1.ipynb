{
 "cells": [
  {
   "cell_type": "code",
   "execution_count": 1,
   "id": "61711d0c-e3fc-4310-a470-329ba290431b",
   "metadata": {},
   "outputs": [
    {
     "name": "stdin",
     "output_type": "stream",
     "text": [
      "enter a: 20\n",
      "enter b: 30\n"
     ]
    },
    {
     "name": "stdout",
     "output_type": "stream",
     "text": [
      "largest: 20\n"
     ]
    }
   ],
   "source": [
    "#if-elif else statement for largest number of two a,b\n",
    "a=int(input(\"enter a:\"))\n",
    "b=int(input(\"enter b:\"))\n",
    "if a<b:\n",
    "    print(\"largest:\",a)\n",
    "elif a>b:\n",
    "    print(\"largest:\",b)\n",
    "else:\n",
    "    print(\"both numbers are same\")"
   ]
  },
  {
   "cell_type": "code",
   "execution_count": 3,
   "id": "3b7dd2c3-343b-4f8a-bc64-ebf92f749ab2",
   "metadata": {},
   "outputs": [
    {
     "name": "stdin",
     "output_type": "stream",
     "text": [
      "enter a number : 34\n"
     ]
    },
    {
     "name": "stdout",
     "output_type": "stream",
     "text": [
      "34 is even\n"
     ]
    }
   ],
   "source": [
    "num=int(input(\"enter a number :\"))\n",
    "if num%2!=1:\n",
    "    print(num,\"is even\")\n",
    "else:\n",
    "    print(num,\"is a odd\")"
   ]
  },
  {
   "cell_type": "code",
   "execution_count": 5,
   "id": "453cd9ce-5f62-4065-ac5c-1dc77158d67f",
   "metadata": {},
   "outputs": [
    {
     "name": "stdin",
     "output_type": "stream",
     "text": [
      "enter the number 67\n"
     ]
    },
    {
     "name": "stdout",
     "output_type": "stream",
     "text": [
      "positive number\n",
      "odd\n"
     ]
    }
   ],
   "source": [
    "#nested if for checking the number is both pos and even\n",
    "num=int(input(\"enter the number\"))\n",
    "if num>0:\n",
    "    print(\"positive number\")\n",
    "    if num%2==0:\n",
    "        print(\"even\")\n",
    "    else:\n",
    "        print(\"odd\")\n",
    "else:\n",
    "    print(\"number is negitive number\")"
   ]
  },
  {
   "cell_type": "code",
   "execution_count": 13,
   "id": "9aea72e4-cacf-4ec0-acaa-a2641b1f85eb",
   "metadata": {},
   "outputs": [
    {
     "name": "stdin",
     "output_type": "stream",
     "text": [
      "enter your 4-digit pin number: 1703\n"
     ]
    },
    {
     "name": "stdout",
     "output_type": "stream",
     "text": [
      "access granted!!\n"
     ]
    },
    {
     "name": "stdin",
     "output_type": "stream",
     "text": [
      "enter amount: 100040\n"
     ]
    },
    {
     "name": "stdout",
     "output_type": "stream",
     "text": [
      "insufficent funds!!!!\n"
     ]
    }
   ],
   "source": [
    "#password code\n",
    "pin=int(input(\"enter your 4-digit pin number:\"))\n",
    "spin=1703\n",
    "balance=10039\n",
    "if pin==spin:\n",
    "    print(\"access granted!!\")\n",
    "    withdraw=int(input(\"enter amount:\"))\n",
    "    if withdraw>balance:\n",
    "        print(\"insufficent funds!!!!\")\n",
    "    else:\n",
    "        print(\"amount withdraw:\",withdraw)\n",
    "        print(\"remaining balance:\",balance-withdraw)\n",
    "        print(\"thank you bank SBI\")\n",
    "else:\n",
    "    print(\"incorrect pin\")\n",
    "        \n"
   ]
  },
  {
   "cell_type": "code",
   "execution_count": 23,
   "id": "a30fc0ea-4e6f-4bab-abe8-507c8f31f461",
   "metadata": {},
   "outputs": [
    {
     "name": "stdin",
     "output_type": "stream",
     "text": [
      "enter a number 4\n"
     ]
    },
    {
     "name": "stdout",
     "output_type": "stream",
     "text": [
      "kittu\n",
      "kittu\n",
      "kittu\n",
      "kittu\n"
     ]
    }
   ],
   "source": [
    "num=int(input(\"enter a number\"))\n",
    "loop=0\n",
    "while loop<num:\n",
    "    print(\"kittu\")\n",
    "    loop+=1"
   ]
  },
  {
   "cell_type": "code",
   "execution_count": 19,
   "id": "0795a9f9-b35b-4749-b1c7-d989a8e6920e",
   "metadata": {},
   "outputs": [
    {
     "name": "stdin",
     "output_type": "stream",
     "text": [
      "natural numnbers 20\n"
     ]
    },
    {
     "name": "stdout",
     "output_type": "stream",
     "text": [
      "1\n",
      "2\n",
      "3\n",
      "4\n",
      "5\n",
      "6\n",
      "7\n",
      "8\n",
      "9\n",
      "10\n",
      "11\n",
      "12\n",
      "13\n",
      "14\n",
      "15\n",
      "16\n",
      "17\n",
      "18\n",
      "19\n",
      "20\n"
     ]
    }
   ],
   "source": [
    "#wap to print the first n natural numbers till 50\n",
    "n=int(input(\"natural numnbers\"))\n",
    "if n>50:\n",
    "    print(\"n cannot be greater than 50\")\n",
    "else:\n",
    "    for i in range(1,n+1):\n",
    "        print(i,end=' ')"
   ]
  },
  {
   "cell_type": "code",
   "execution_count": 21,
   "id": "b10ca080-db3e-457b-b96d-4ddd4699b598",
   "metadata": {},
   "outputs": [
    {
     "name": "stdin",
     "output_type": "stream",
     "text": [
      "natural numnbers 22\n"
     ]
    },
    {
     "name": "stdout",
     "output_type": "stream",
     "text": [
      "22\n",
      "21\n",
      "20\n",
      "19\n",
      "18\n",
      "17\n",
      "16\n",
      "15\n",
      "14\n",
      "13\n",
      "12\n",
      "11\n",
      "10\n",
      "9\n",
      "8\n",
      "7\n",
      "6\n",
      "5\n",
      "4\n",
      "3\n",
      "2\n",
      "1\n"
     ]
    }
   ],
   "source": [
    "n=int(input(\"natural numnbers\"))\n",
    "if n>50:\n",
    "    print(\"n cannot be greater than 50\")\n",
    "else:\n",
    "    for i in range(n,0,-1):\n",
    "        print(i)\n"
   ]
  },
  {
   "cell_type": "code",
   "execution_count": null,
   "id": "538b3c59-826e-41ce-a231-d20ee667d8f0",
   "metadata": {},
   "outputs": [],
   "source": [
    "'''give number 5328,write a code to print the sum of digits total :18'''\n"
   ]
  }
 ],
 "metadata": {
  "kernelspec": {
   "display_name": "Python 3 (ipykernel)",
   "language": "python",
   "name": "python3"
  },
  "language_info": {
   "codemirror_mode": {
    "name": "ipython",
    "version": 3
   },
   "file_extension": ".py",
   "mimetype": "text/x-python",
   "name": "python",
   "nbconvert_exporter": "python",
   "pygments_lexer": "ipython3",
   "version": "3.12.7"
  }
 },
 "nbformat": 4,
 "nbformat_minor": 5
}
