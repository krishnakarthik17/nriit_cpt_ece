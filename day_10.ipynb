{
 "cells": [
  {
   "cell_type": "code",
   "execution_count": null,
   "id": "72320e8a-6dc5-4391-b522-c5aa1b64a2d1",
   "metadata": {},
   "outputs": [],
   "source": [
    "#functions in python\n",
    "#user defined functions\n",
    "int(input()0)\n",
    "print()\n",
    "upper()\n",
    "lower()\n",
    "#syntax\n",
    "def functionname(parameters):\n",
    "    return value"
   ]
  },
  {
   "cell_type": "code",
   "execution_count": 9,
   "id": "09e0be86-ea31-4ab1-bf92-9e79c85a6b56",
   "metadata": {},
   "outputs": [
    {
     "name": "stdout",
     "output_type": "stream",
     "text": [
      "heloo friends\n",
      "my name is kittu "
     ]
    }
   ],
   "source": [
    "def hi():\n",
    "    print(\"heloo friends\")\n",
    "    print(\"my name is kittu\"*1,end=' ')\n",
    "hi()"
   ]
  },
  {
   "cell_type": "code",
   "execution_count": 17,
   "id": "89815e8e-9aaa-4dce-ab1a-cf2a47e36e47",
   "metadata": {},
   "outputs": [
    {
     "name": "stdin",
     "output_type": "stream",
     "text": [
      "enter the marks:  97\n",
      "enter the marks:  92\n"
     ]
    },
    {
     "name": "stdout",
     "output_type": "stream",
     "text": [
      "total marks: 189\n"
     ]
    }
   ],
   "source": [
    "#functions with parameters\n",
    "def add(a,b):\n",
    "    return a+b\n",
    "maths=int(input(\"enter the marks: \"))\n",
    "science=int(input(\"enter the marks: \"))\n",
    "total=add(maths,science)\n",
    "print(\"total marks:\",total)\n"
   ]
  },
  {
   "cell_type": "code",
   "execution_count": 19,
   "id": "1c1629f8-ee6b-497f-a883-9aa58953dd50",
   "metadata": {},
   "outputs": [
    {
     "name": "stdout",
     "output_type": "stream",
     "text": [
      "value in the function is 3.1234\n"
     ]
    }
   ],
   "source": [
    "def value():\n",
    "    return 3.1234\n",
    "result=value()\n",
    "print(\"value in the function is\",result)\n"
   ]
  },
  {
   "cell_type": "code",
   "execution_count": 27,
   "id": "fc7b624f-8e20-49a1-acb6-c704fca95999",
   "metadata": {},
   "outputs": [
    {
     "name": "stdin",
     "output_type": "stream",
     "text": [
      "enter your name: kittu\n"
     ]
    },
    {
     "name": "stdout",
     "output_type": "stream",
     "text": [
      "hi my dear kittu\n"
     ]
    }
   ],
   "source": [
    "def get_name():\n",
    "    name=input(\"enter your name:\")\n",
    "    return name\n",
    "user=get_name()\n",
    "print(\"hi my dear\",user)"
   ]
  },
  {
   "cell_type": "code",
   "execution_count": 31,
   "id": "a447562d-5f6d-4de9-b17a-554330cb8d79",
   "metadata": {},
   "outputs": [
    {
     "name": "stdin",
     "output_type": "stream",
     "text": [
      "enter a: 5\n",
      "enter b: 6\n"
     ]
    },
    {
     "name": "stdout",
     "output_type": "stream",
     "text": [
      "sum= 11\n"
     ]
    }
   ],
   "source": [
    "def cal(a,b):\n",
    "    return a+b\n",
    "a=int(input(\"enter a:\"))\n",
    "b=int(input(\"enter b:\"))\n",
    "sum= cal(a,b)\n",
    "print(\"sum=\",sum)"
   ]
  },
  {
   "cell_type": "code",
   "execution_count": 43,
   "id": "ce05369f-0e6b-467c-a63b-5fd6d890a769",
   "metadata": {},
   "outputs": [
    {
     "name": "stdin",
     "output_type": "stream",
     "text": [
      "enter a : 10\n",
      "enter b : 20\n",
      "enter c : 5\n"
     ]
    },
    {
     "name": "stdout",
     "output_type": "stream",
     "text": [
      "maximum: 20\n",
      "minimum: 5\n"
     ]
    }
   ],
   "source": [
    "def max_min(a,b,c):\n",
    "    return max(a,b,c),min(a,b,c)\n",
    "a=int(input(\"enter a :\"))\n",
    "b=int(input(\"enter b :\"))\n",
    "c=int(input(\"enter c :\"))\n",
    "maxi, mini=max_min(a,b,c)\n",
    "print(\"maximum:\",maxi)\n",
    "print(\"minimum:\",mini)\n"
   ]
  },
  {
   "cell_type": "code",
   "execution_count": null,
   "id": "65469281-bcd7-43c8-9b3e-8f63ae939cbf",
   "metadata": {},
   "outputs": [],
   "source": []
  }
 ],
 "metadata": {
  "kernelspec": {
   "display_name": "Python 3 (ipykernel)",
   "language": "python",
   "name": "python3"
  },
  "language_info": {
   "codemirror_mode": {
    "name": "ipython",
    "version": 3
   },
   "file_extension": ".py",
   "mimetype": "text/x-python",
   "name": "python",
   "nbconvert_exporter": "python",
   "pygments_lexer": "ipython3",
   "version": "3.12.7"
  }
 },
 "nbformat": 4,
 "nbformat_minor": 5
}
