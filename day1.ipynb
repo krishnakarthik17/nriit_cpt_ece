{
 "cells": [
  {
   "cell_type": "code",
   "execution_count": 7,
   "id": "67fa12eb-6fd5-4f28-ba11-a1e000857334",
   "metadata": {},
   "outputs": [
    {
     "name": "stdout",
     "output_type": "stream",
     "text": [
      "reversed string: ihsir\n"
     ]
    }
   ],
   "source": [
    "s=\"rishi\"\n",
    "rev=\"\"\n",
    "i=len(s)-1\n",
    "while i>=0:\n",
    "    rev+=s[i]\n",
    "    i-=1\n",
    "print(\"reversed string:\",rev)"
   ]
  },
  {
   "cell_type": "code",
   "execution_count": 9,
   "id": "973cd489-463e-4ca0-853b-b0c739e0bbb0",
   "metadata": {},
   "outputs": [
    {
     "name": "stdout",
     "output_type": "stream",
     "text": [
      "1\n",
      "4\n"
     ]
    }
   ],
   "source": [
    "a=1\n",
    "b=3\n",
    "c=a\n",
    "k=4\n",
    "l=k\n",
    "print(c)\n",
    "print(l)"
   ]
  },
  {
   "cell_type": "code",
   "execution_count": 11,
   "id": "a0dc3a8b-0ce0-41ad-ab2d-d91dabb44530",
   "metadata": {},
   "outputs": [
    {
     "name": "stdout",
     "output_type": "stream",
     "text": [
      "odd numbers: 1\n",
      "odd numbers: 3\n",
      "odd numbers: 5\n",
      "odd numbers: 7\n",
      "odd numbers: 9\n"
     ]
    }
   ],
   "source": [
    "num=0\n",
    "while num<10:\n",
    "    num+=1\n",
    "    if num%2==0:\n",
    "        continue\n",
    "    print(\"odd numbers:\",num)"
   ]
  },
  {
   "cell_type": "code",
   "execution_count": 13,
   "id": "5e5415d0-ac47-44d0-a6a4-da4f85a9f802",
   "metadata": {},
   "outputs": [
    {
     "name": "stdout",
     "output_type": "stream",
     "text": [
      "count: 1\n",
      "count: 2\n",
      "count: 3\n",
      "count: 4\n",
      "count: 5\n",
      "loop completed\n"
     ]
    }
   ],
   "source": [
    "count=1\n",
    "while count<=5:\n",
    "    print(\"count:\",count)\n",
    "    count+=1\n",
    "else:\n",
    "    print(\"loop completed\")"
   ]
  },
  {
   "cell_type": "code",
   "execution_count": 15,
   "id": "6ae4be91-dfbf-40b7-8361-44c415ad9c06",
   "metadata": {},
   "outputs": [
    {
     "name": "stdout",
     "output_type": "stream",
     "text": [
      "number\n",
      "number\n",
      "number\n",
      "number\n",
      "number\n",
      "breaking loop at 6\n"
     ]
    }
   ],
   "source": [
    "num=1\n",
    "while num<=10:\n",
    "    if num==6:\n",
    "        print(\"breaking loop at 6\")\n",
    "        break\n",
    "    print(\"number\")\n",
    "    num+=1\n",
    "else:\n",
    "    print(\"break at 5 so 10 numbers will not print\")"
   ]
  },
  {
   "cell_type": "code",
   "execution_count": 23,
   "id": "e9402171-7283-42e2-af68-3f56449cb3af",
   "metadata": {},
   "outputs": [
    {
     "name": "stdin",
     "output_type": "stream",
     "text": [
      "enter the number 1149\n"
     ]
    },
    {
     "name": "stdout",
     "output_type": "stream",
     "text": [
      "the reversed number is: 9411\n"
     ]
    }
   ],
   "source": [
    "n=int(input(\"enter the number\"))\n",
    "rev=0\n",
    "while n>0:\n",
    "    r=n%10\n",
    "    rev=rev*10+r\n",
    "    n//=10\n",
    "print(\"the reversed number is:\",rev)"
   ]
  },
  {
   "cell_type": "code",
   "execution_count": null,
   "id": "cde49570-58c0-4955-a464-6e88268d465a",
   "metadata": {},
   "outputs": [],
   "source": []
  }
 ],
 "metadata": {
  "kernelspec": {
   "display_name": "Python 3 (ipykernel)",
   "language": "python",
   "name": "python3"
  },
  "language_info": {
   "codemirror_mode": {
    "name": "ipython",
    "version": 3
   },
   "file_extension": ".py",
   "mimetype": "text/x-python",
   "name": "python",
   "nbconvert_exporter": "python",
   "pygments_lexer": "ipython3",
   "version": "3.12.7"
  }
 },
 "nbformat": 4,
 "nbformat_minor": 5
}
