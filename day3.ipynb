{
 "cells": [
  {
   "cell_type": "code",
   "execution_count": 1,
   "id": "266f4fec-149d-4ebe-b4f3-f57e874824b0",
   "metadata": {},
   "outputs": [
    {
     "name": "stdout",
     "output_type": "stream",
     "text": [
      "{'salary': 100000, 'empid': 14} ['empid']\n"
     ]
    }
   ],
   "source": [
    "#nested dist\n",
    "person={\"vijay\":{\"salary\":10000,\"empid\":24},\n",
    "        \"devarakonda\":{\"salary\":100000,\"empid\":14}}\n",
    "print(person[\"devarakonda\"],[\"empid\"])"
   ]
  },
  {
   "cell_type": "code",
   "execution_count": 3,
   "id": "7ca18a90-f979-4542-a450-ea533184a1bf",
   "metadata": {},
   "outputs": [
    {
     "name": "stdout",
     "output_type": "stream",
     "text": [
      "vijayawada\n"
     ]
    }
   ],
   "source": [
    "#dicitionary with tuples as keys\n",
    "loc={\n",
    "    (40.1938, -75.00001):\"new york\",\n",
    "    (34,1498, -111.345):\"vijayawada\",\n",
    "}\n",
    "print(loc[(34,1498, -111.345)])\n"
   ]
  },
  {
   "cell_type": "code",
   "execution_count": 5,
   "id": "91399be2-3568-46db-89b4-6246ef7651ec",
   "metadata": {},
   "outputs": [
    {
     "name": "stdout",
     "output_type": "stream",
     "text": [
      "{1, 2, 3, 4, 5}\n"
     ]
    }
   ],
   "source": [
    "#set implementation\n",
    "set_1={1,2,3,4,5}\n",
    "print(set_1)\n"
   ]
  },
  {
   "cell_type": "code",
   "execution_count": 9,
   "id": "33c6d1f4-f6e9-46b1-9f01-9f16b319adc9",
   "metadata": {},
   "outputs": [
    {
     "name": "stdout",
     "output_type": "stream",
     "text": [
      "{1, 2, 3, 4, 5}\n",
      "add and remove elements\n",
      "{1, 2, 3, 4, 5, 6}\n"
     ]
    }
   ],
   "source": [
    "set_1={1,2,3,4,5}\n",
    "print(set_1)\n",
    "print(\"add and remove elements\")\n",
    "set_1.add(6)\n",
    "print(set_1)"
   ]
  },
  {
   "cell_type": "code",
   "execution_count": 11,
   "id": "605105ba-12d2-4b7b-a92d-3abe9c39f46f",
   "metadata": {},
   "outputs": [
    {
     "name": "stdout",
     "output_type": "stream",
     "text": [
      "{1, 2, 3, 4, 5}\n",
      "add and remove elements\n",
      "{1, 2, 3, 4, 5, 6}\n",
      "{1, 2, 4, 5, 6}\n"
     ]
    }
   ],
   "source": [
    "set_1={1,2,3,4,5}\n",
    "print(set_1)\n",
    "print(\"add and remove elements\")\n",
    "set_1.add(6)\n",
    "print(set_1)\n",
    "set_1.remove(3)\n",
    "print(set_1)"
   ]
  },
  {
   "cell_type": "code",
   "execution_count": 18,
   "id": "feb5611c-86c0-468e-a0c7-a618c0af571d",
   "metadata": {},
   "outputs": [
    {
     "name": "stdout",
     "output_type": "stream",
     "text": [
      "{1, 2, 3, 4, 5}\n",
      "add and remove elements\n",
      "{1, 2, 3, 4, 5, 6}\n",
      "{1, 2, 4, 5, 6}\n",
      "False\n",
      "True\n"
     ]
    }
   ],
   "source": [
    "set_1={1,2,3,4,5}\n",
    "print(set_1)\n",
    "print(\"add and remove elements\")\n",
    "set_1.add(6)\n",
    "print(set_1)\n",
    "set_1.remove(3)\n",
    "print(set_1)\n",
    "print(3 in set_1)\n",
    "print(10 not in set_1)"
   ]
  },
  {
   "cell_type": "code",
   "execution_count": 20,
   "id": "b724a819-5965-4b5e-aaca-d6f45b0d71f2",
   "metadata": {},
   "outputs": [
    {
     "name": "stdout",
     "output_type": "stream",
     "text": [
      "union: {1, 2, 3, 4, 6, 7, 8, 9}\n",
      "intersection: set()\n",
      "difference: {1, 2, 3, 4}\n",
      "symmetricdifference: {1, 2, 3, 4, 6, 7, 8, 9}\n"
     ]
    }
   ],
   "source": [
    "a={1,2,3,4}\n",
    "b={9,8,7,6}\n",
    "print(\"union:\",a.union(b))\n",
    "print(\"intersection:\",a.intersection(b))\n",
    "print(\"difference:\",a.difference(b))\n",
    "print(\"symmetricdifference:\",a.symmetric_difference(b))"
   ]
  },
  {
   "cell_type": "code",
   "execution_count": 24,
   "id": "2ef66a3e-97d5-4113-b1d6-895315cf9a65",
   "metadata": {},
   "outputs": [
    {
     "name": "stdout",
     "output_type": "stream",
     "text": [
      "a is subset to b : True\n",
      "b is subset to a : False\n"
     ]
    }
   ],
   "source": [
    "#subset check\n",
    "a={1,2}\n",
    "b={1,2,3,4,5}\n",
    "print(\"a is subset to b :\",a.issubset(b))\n",
    "print(\"b is subset to a :\",b.issubset(a))    "
   ]
  },
  {
   "cell_type": "code",
   "execution_count": 26,
   "id": "96015d27-c766-42ee-9e44-0b595a98037a",
   "metadata": {},
   "outputs": [
    {
     "name": "stdout",
     "output_type": "stream",
     "text": [
      "subset or not: True\n",
      "proper subset: True\n"
     ]
    }
   ],
   "source": [
    "#by using condititonal operator\n",
    "a={1,2}\n",
    "b={1,2,3,4,5}\n",
    "print(\"subset or not:\",a<=b)\n",
    "print(\"proper subset:\",a<b)\n"
   ]
  },
  {
   "cell_type": "code",
   "execution_count": 28,
   "id": "b3891e85-6858-4aa7-ae09-84fbda4cd1ed",
   "metadata": {},
   "outputs": [
    {
     "name": "stdout",
     "output_type": "stream",
     "text": [
      "subset or not: True\n",
      "proper subset: True\n",
      "superset or not : False\n",
      "proper superset : True\n"
     ]
    }
   ],
   "source": [
    "a={1,2}\n",
    "b={1,2,3,4,5}\n",
    "print(\"subset or not:\",a<=b)\n",
    "print(\"proper subset:\",a<b)\n",
    "print(\"superset or not :\",a>=b)\n",
    "print(\"proper superset :\",b>a)"
   ]
  },
  {
   "cell_type": "code",
   "execution_count": 32,
   "id": "3df8d458-f0bd-4add-81b7-9eed1ddde952",
   "metadata": {},
   "outputs": [
    {
     "name": "stdout",
     "output_type": "stream",
     "text": [
      "{1, 2, 3, 5}\n"
     ]
    }
   ],
   "source": [
    "#set with lists\n",
    "nums=[1,2,3,5]\n",
    "single=set(nums)\n",
    "print(single)"
   ]
  },
  {
   "cell_type": "code",
   "execution_count": 34,
   "id": "cc7b6d06-03eb-4e80-b23a-176a1018e3c1",
   "metadata": {},
   "outputs": [
    {
     "name": "stdout",
     "output_type": "stream",
     "text": [
      "x is a subset of y\n"
     ]
    }
   ],
   "source": [
    "x=set([1,2])\n",
    "y=set([1,2,3])\n",
    "if x.issubset(y):\n",
    "    print(\"x is a subset of y\")"
   ]
  },
  {
   "cell_type": "code",
   "execution_count": 36,
   "id": "cb9b8a61-b49d-44ab-8cf4-4533ac031e2b",
   "metadata": {},
   "outputs": [
    {
     "name": "stdout",
     "output_type": "stream",
     "text": [
      "key for value:'(s):num\n"
     ]
    }
   ],
   "source": [
    "info={'name':'india','num':123}\n",
    "s=123\n",
    "for key,value in info.items():\n",
    "    if value==s:\n",
    "        print(f\"key for value:'(s):{key}\")"
   ]
  }
 ],
 "metadata": {
  "kernelspec": {
   "display_name": "Python 3 (ipykernel)",
   "language": "python",
   "name": "python3"
  },
  "language_info": {
   "codemirror_mode": {
    "name": "ipython",
    "version": 3
   },
   "file_extension": ".py",
   "mimetype": "text/x-python",
   "name": "python",
   "nbconvert_exporter": "python",
   "pygments_lexer": "ipython3",
   "version": "3.12.7"
  }
 },
 "nbformat": 4,
 "nbformat_minor": 5
}
