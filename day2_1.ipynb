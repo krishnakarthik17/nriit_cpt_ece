{
 "cells": [
  {
   "cell_type": "code",
   "execution_count": 1,
   "id": "3853570c-8873-463b-83de-e7737cd12b28",
   "metadata": {},
   "outputs": [
    {
     "name": "stdin",
     "output_type": "stream",
     "text": [
      "enter the value of a: 11\n",
      "enter the value of b: 49\n"
     ]
    },
    {
     "name": "stdout",
     "output_type": "stream",
     "text": [
      "after sweapping:\n",
      "a: 49\n",
      "b: 11\n"
     ]
    }
   ],
   "source": [
    "a=int(input(\"enter the value of a:\"))\n",
    "b=int(input(\"enter the value of b:\"))\n",
    "a=a^b\n",
    "b=a^b\n",
    "a=a^b\n",
    "print(\"after sweapping:\")\n",
    "print(\"a:\",a)\n",
    "print(\"b:\",b)"
   ]
  },
  {
   "cell_type": "code",
   "execution_count": 8,
   "id": "0df02b01-9e32-4161-9506-e5b54922931c",
   "metadata": {},
   "outputs": [
    {
     "name": "stdout",
     "output_type": "stream",
     "text": [
      "['apple', 'mango', 'pineapple', 'grape']\n",
      "mango\n",
      "['apple', 'mango', 'banana', 'grape']\n"
     ]
    }
   ],
   "source": [
    "fruits=['apple','mango','pineapple','grape']\n",
    "print(fruits)\n",
    "print(fruits[1])\n",
    "fruits[2]='banana'\n",
    "print(fruits)\n"
   ]
  },
  {
   "cell_type": "code",
   "execution_count": 10,
   "id": "ea3048eb-ae64-440a-a0e7-92a62e76c451",
   "metadata": {},
   "outputs": [
    {
     "name": "stdout",
     "output_type": "stream",
     "text": [
      "7\n",
      "[3, 5, 7]\n"
     ]
    }
   ],
   "source": [
    "nums=[0,1,2,3,5,7,8]\n",
    "print(len(nums))\n",
    "print(nums[3:6])"
   ]
  },
  {
   "cell_type": "code",
   "execution_count": 12,
   "id": "f358df77-7642-4d4d-a5fa-d1c9f65a292c",
   "metadata": {},
   "outputs": [
    {
     "name": "stdout",
     "output_type": "stream",
     "text": [
      "7\n",
      "[3, 5, 7]\n",
      "[0, 1, 2]\n",
      "[0, 2, 5, 8]\n",
      "[0, 1, 2, 3, 5, 7]\n"
     ]
    }
   ],
   "source": [
    "nums=[0,1,2,3,5,7,8]\n",
    "print(len(nums))\n",
    "print(nums[3:6])\n",
    "print(nums[:3])\n",
    "print(nums[::2])\n",
    "print(nums[:-1])"
   ]
  },
  {
   "cell_type": "code",
   "execution_count": 16,
   "id": "e1a6b12b-eb1c-4a25-93c0-bbd150e45cfe",
   "metadata": {},
   "outputs": [
    {
     "name": "stdout",
     "output_type": "stream",
     "text": [
      "['apple', 'grape', 'mango', 'pineapple']\n",
      "['pineapple', 'mango', 'grape', 'apple']\n"
     ]
    }
   ],
   "source": [
    "fruits=['apple','mango','pineapple','grape']\n",
    "fruits.sort()\n",
    "print(fruits)\n",
    "fruits.reverse()\n",
    "print(fruits)"
   ]
  },
  {
   "cell_type": "code",
   "execution_count": 21,
   "id": "739f1e2f-dde1-4f42-ae9e-569ef684b87b",
   "metadata": {},
   "outputs": [
    {
     "name": "stdout",
     "output_type": "stream",
     "text": [
      "[3, 4]\n",
      "[5, 6] [0]\n"
     ]
    }
   ],
   "source": [
    "nestnum=[[1,2],[3,4],[5,6]] \n",
    "print(nestnum[1])\n",
    "print(nestnum[2],[0])"
   ]
  },
  {
   "cell_type": "code",
   "execution_count": 23,
   "id": "0f42ac8e-b92f-4c35-9015-6f3a4de95c40",
   "metadata": {},
   "outputs": [
    {
     "name": "stdout",
     "output_type": "stream",
     "text": [
      "[3, 4]\n",
      "[5, 6] [0]\n",
      "[3, 4] [1]\n"
     ]
    }
   ],
   "source": [
    "nestnum=[[1,2],[3,4],[5,6]] \n",
    "print(nestnum[1])\n",
    "print(nestnum[2],[0])\n",
    "print(nestnum[1],[1])"
   ]
  },
  {
   "cell_type": "code",
   "execution_count": 25,
   "id": "4f2897a0-d786-4c48-a683-24a93e367746",
   "metadata": {},
   "outputs": [
    {
     "name": "stdout",
     "output_type": "stream",
     "text": [
      "[3, 4]\n",
      "5\n",
      "4\n"
     ]
    }
   ],
   "source": [
    "nestnum=[[1,2],[3,4],[5,6]] \n",
    "print(nestnum[1])\n",
    "print(nestnum[2][0])\n",
    "print(nestnum[1][1])"
   ]
  },
  {
   "cell_type": "code",
   "execution_count": null,
   "id": "202d1629-3fde-4ff1-ab7e-75fae1b0757d",
   "metadata": {},
   "outputs": [],
   "source": []
  }
 ],
 "metadata": {
  "kernelspec": {
   "display_name": "Python 3 (ipykernel)",
   "language": "python",
   "name": "python3"
  },
  "language_info": {
   "codemirror_mode": {
    "name": "ipython",
    "version": 3
   },
   "file_extension": ".py",
   "mimetype": "text/x-python",
   "name": "python",
   "nbconvert_exporter": "python",
   "pygments_lexer": "ipython3",
   "version": "3.12.7"
  }
 },
 "nbformat": 4,
 "nbformat_minor": 5
}
