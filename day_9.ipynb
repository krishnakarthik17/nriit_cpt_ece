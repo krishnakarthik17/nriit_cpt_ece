{
 "cells": [
  {
   "cell_type": "code",
   "execution_count": 31,
   "id": "d9c7250a-d131-4f82-a3f7-66e4b1964085",
   "metadata": {},
   "outputs": [
    {
     "name": "stdin",
     "output_type": "stream",
     "text": [
      "enter the size: 5\n"
     ]
    },
    {
     "name": "stdout",
     "output_type": "stream",
     "text": [
      "  1   2   3   4   5 \n",
      " 16  17  18  19   6 \n",
      " 15  24  25  20   7 \n",
      " 14  23  22  21   8 \n",
      " 13  12  11  10   9 \n"
     ]
    }
   ],
   "source": [
    "n=int(input(\"enter the size:\"))\n",
    "matrix=[[0]*n for _ in range(n)]\n",
    "top,left=0,0\n",
    "right,bottom=n-1,n-1\n",
    "num=1\n",
    "while top<=bottom and left<=right:\n",
    "   for i in range(left, right+1):\n",
    "       matrix[top][i]=num\n",
    "       num+=1\n",
    "   top+=1\n",
    "   for i in range(top, bottom+1):\n",
    "       matrix[i][right]=num\n",
    "       num+=1\n",
    "   right-=1\n",
    "   for i in range(right,left-1,-1):\n",
    "       matrix[bottom][i]=num\n",
    "       num+=1\n",
    "   bottom-=1\n",
    "   for i in range(bottom,top-1,-1):\n",
    "       matrix[i][left]=num\n",
    "       num+=1\n",
    "   left+=1\n",
    "for row in matrix:\n",
    "    for val in row:\n",
    "        print(f\"{val:3}\",end=' ')\n",
    "    print()\n",
    "        \n",
    "   \n",
    " "
   ]
  },
  {
   "cell_type": "code",
   "execution_count": 35,
   "id": "d16e728b-5ea4-4766-b899-969c5a043abc",
   "metadata": {},
   "outputs": [
    {
     "name": "stdout",
     "output_type": "stream",
     "text": [
      "1 2 3 4 5 6 7 8 9 10 11 12 13 14 15 16 17 18 19 20 21 22 23 24 25 "
     ]
    }
   ],
   "source": [
    "\n",
    "rows=len(matrix)\n",
    "cols=len(matrix[0])\n",
    "top, left=0,0\n",
    "right, bottom= cols-1, rows-1\n",
    "while top<=bottom and left<=right:\n",
    "    for i in range(left,right+1):\n",
    "        print(matrix[top][i],end=' ')\n",
    "    top+=1\n",
    "    for i in range(top,bottom+1):\n",
    "        print(matrix[i][right],end=' ')\n",
    "    right-=1\n",
    "    for i in range(right, left-1, -1):\n",
    "        print(matrix[bottom][i],end=' ')\n",
    "    bottom-=1\n",
    "    for i in range(bottom, top-1, -1):\n",
    "        print(matrix[i][left],end=' ')\n",
    "    left+=1\n",
    "\n"
   ]
  },
  {
   "cell_type": "code",
   "execution_count": null,
   "id": "1d130109-5f7d-4c8d-8701-e1686d26f5bc",
   "metadata": {},
   "outputs": [],
   "source": [
    "matrix=[[1,2,3,4],\n",
    "        [5,6,7,8], \n",
    "        [9,10,11,12],\n",
    "        [13,14,15,16]]"
   ]
  }
 ],
 "metadata": {
  "kernelspec": {
   "display_name": "Python 3 (ipykernel)",
   "language": "python",
   "name": "python3"
  },
  "language_info": {
   "codemirror_mode": {
    "name": "ipython",
    "version": 3
   },
   "file_extension": ".py",
   "mimetype": "text/x-python",
   "name": "python",
   "nbconvert_exporter": "python",
   "pygments_lexer": "ipython3",
   "version": "3.12.7"
  }
 },
 "nbformat": 4,
 "nbformat_minor": 5
}
