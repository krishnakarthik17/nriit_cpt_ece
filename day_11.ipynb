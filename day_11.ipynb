{
 "cells": [
  {
   "cell_type": "code",
   "execution_count": 9,
   "id": "9ef9f3cc-20d5-4a3c-8690-9d0e0f3e521c",
   "metadata": {},
   "outputs": [
    {
     "name": "stdin",
     "output_type": "stream",
     "text": [
      "enter a number 9\n"
     ]
    },
    {
     "name": "stdout",
     "output_type": "stream",
     "text": [
      "factorial of 9 is 362880\n"
     ]
    }
   ],
   "source": [
    "#functions in python\n",
    "fact=1\n",
    "def factorial(n):\n",
    "    global fact\n",
    "    fact=1\n",
    "    for i in range(1,n+1):\n",
    "        fact *=i\n",
    "    return fact\n",
    "num=int(input(\"enter a number\"))\n",
    "if  num<0:\n",
    "    print(\"cannot derive fact for -ve numbers\")\n",
    "else:\n",
    "    factorial(num)\n",
    "    print(f\"factorial of {num} is\",fact)"
   ]
  },
  {
   "cell_type": "code",
   "execution_count": 49,
   "id": "d0d5327c-35e9-4534-9bef-fee39cac0d0c",
   "metadata": {},
   "outputs": [
    {
     "name": "stdin",
     "output_type": "stream",
     "text": [
      "enter the value: 8\n"
     ]
    },
    {
     "name": "stdout",
     "output_type": "stream",
     "text": [
      "40320\n"
     ]
    }
   ],
   "source": [
    "def l(n):\n",
    "    if n==0 or n==1:\n",
    "        return 1\n",
    "    return n*l(n-1)\n",
    "num=int(input(\"enter the value:\"))\n",
    "value=l(num)\n",
    "print(value)\n"
   ]
  },
  {
   "cell_type": "code",
   "execution_count": 19,
   "id": "d2951838-c83e-495a-8d67-de92953696fa",
   "metadata": {},
   "outputs": [
    {
     "name": "stdin",
     "output_type": "stream",
     "text": [
      "enter n: 7\n"
     ]
    },
    {
     "name": "stdout",
     "output_type": "stream",
     "text": [
      "sum of first 7 natural numbers is 28\n"
     ]
    }
   ],
   "source": [
    "def nsum(n):\n",
    "    if n==0:\n",
    "        return 0\n",
    "    return n+nsum(n-1)\n",
    "num=int(input(\"enter n:\"))\n",
    "print(\"sum of first\",num,\"natural numbers is\",nsum(num))"
   ]
  },
  {
   "cell_type": "code",
   "execution_count": 37,
   "id": "ec364ccf-30d1-4273-ad01-9297f3fdff82",
   "metadata": {},
   "outputs": [
    {
     "name": "stdin",
     "output_type": "stream",
     "text": [
      "enter a word india\n"
     ]
    },
    {
     "name": "stdout",
     "output_type": "stream",
     "text": [
      "aidni\n"
     ]
    }
   ],
   "source": [
    "def rstring(s):\n",
    "    if len(s)==0:\n",
    "        return s\n",
    "    return rstring(s[1:])+s[0]\n",
    "text=input(\"enter a word\")\n",
    "print(rstring(text))"
   ]
  },
  {
   "cell_type": "code",
   "execution_count": 47,
   "id": "7b02ed84-2f2a-4dc3-8734-21fafe42e2be",
   "metadata": {},
   "outputs": [
    {
     "name": "stdout",
     "output_type": "stream",
     "text": [
      "5\n",
      "158\n"
     ]
    }
   ],
   "source": [
    "def sumnum(*args):\n",
    "    print(args[4])\n",
    "    return sum(args)\n",
    "print(sumnum(1,2,3,3,5,3,2,56,6,32,43,2))"
   ]
  },
  {
   "cell_type": "code",
   "execution_count": 53,
   "id": "8c1c739b-1d06-48c7-b6db-164843310da7",
   "metadata": {},
   "outputs": [
    {
     "name": "stdout",
     "output_type": "stream",
     "text": [
      "values: dict_values(['kittu', 19, 7.64])\n",
      "-------------------\n",
      "('name', 'kittu')\n",
      "('age', 19)\n",
      "('cgpa', 7.64)\n"
     ]
    }
   ],
   "source": [
    "def info(**kwargs):\n",
    "    print(\"values:\",kwargs.values())\n",
    "    print(\"-------------------\")\n",
    "    for value in kwargs.items():\n",
    "        print(value)\n",
    "info(name='kittu',age=19,cgpa=7.64)"
   ]
  },
  {
   "cell_type": "code",
   "execution_count": null,
   "id": "3bb36efd-c892-4480-87ed-482ac047425f",
   "metadata": {},
   "outputs": [],
   "source": []
  }
 ],
 "metadata": {
  "kernelspec": {
   "display_name": "Python 3 (ipykernel)",
   "language": "python",
   "name": "python3"
  },
  "language_info": {
   "codemirror_mode": {
    "name": "ipython",
    "version": 3
   },
   "file_extension": ".py",
   "mimetype": "text/x-python",
   "name": "python",
   "nbconvert_exporter": "python",
   "pygments_lexer": "ipython3",
   "version": "3.12.7"
  }
 },
 "nbformat": 4,
 "nbformat_minor": 5
}
