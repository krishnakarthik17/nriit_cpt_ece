{
 "cells": [
  {
   "cell_type": "code",
   "execution_count": 1,
   "id": "5c38e71b-38b3-46c6-984c-b939355e12eb",
   "metadata": {},
   "outputs": [
    {
     "name": "stdout",
     "output_type": "stream",
     "text": [
      "L i o n "
     ]
    }
   ],
   "source": [
    "#simple for loop(string)\n",
    "str= 'Lion'\n",
    "for i in str:\n",
    "    print(i, end=' ')"
   ]
  },
  {
   "cell_type": "code",
   "execution_count": 3,
   "id": "ec344571-0047-43db-bf24-249dfb5c8f07",
   "metadata": {},
   "outputs": [
    {
     "name": "stdout",
     "output_type": "stream",
     "text": [
      "cat\n",
      "dog\n",
      "cow\n"
     ]
    }
   ],
   "source": [
    "#list of strings\n",
    "s=['cat','dog','cow']\n",
    "for pet in s:\n",
    "    print(pet)"
   ]
  },
  {
   "cell_type": "code",
   "execution_count": 5,
   "id": "f09faf54-8d91-4a1a-8b61-1d3c56593c49",
   "metadata": {},
   "outputs": [
    {
     "name": "stdin",
     "output_type": "stream",
     "text": [
      "enter any character: krishna\n"
     ]
    },
    {
     "name": "stdout",
     "output_type": "stream",
     "text": [
      "lowercase char: 1\n",
      "uppercase char: 0\n",
      "number char: 0\n"
     ]
    }
   ],
   "source": [
    "n=l=u=0\n",
    "c=input(\"enter any character:\")\n",
    "if c>='0' and c<='9':\n",
    "    n+=1\n",
    "elif c>'A' and c<='z':\n",
    "    l+=1\n",
    "elif c>'A' and c<='Z':\n",
    "    u+=1\n",
    "print(\"lowercase char:\",l)\n",
    "print(\"uppercase char:\",u)\n",
    "print(\"number char:\",n)"
   ]
  },
  {
   "cell_type": "code",
   "execution_count": 7,
   "id": "b337ef2a-2c31-43d4-a245-900d6eac95ce",
   "metadata": {},
   "outputs": [
    {
     "name": "stdin",
     "output_type": "stream",
     "text": [
      "enter the value of n 100\n"
     ]
    },
    {
     "name": "stdout",
     "output_type": "stream",
     "text": [
      "1 2 3 4 5 6 7 8 9 10 11 12 13 14 15 16 17 18 19 20 21 22 23 24 25 26 27 28 29 30 31 32 33 34 35 36 37 38 39 40 41 42 43 44 45 46 47 48 49 50 51 52 53 54 55 56 57 58 59 60 61 62 63 64 65 66 67 68 69 70 71 72 73 74 75 76 77 78 79 80 81 82 83 84 85 86 87 88 89 90 91 92 93 94 95 96 97 98 99 100 100 99 98 97 96 95 94 93 92 91 90 89 88 87 86 85 84 83 82 81 80 79 78 77 76 75 74 73 72 71 70 69 68 67 66 65 64 63 62 61 60 59 58 57 56 55 54 53 52 51 50 49 48 47 46 45 44 43 42 41 40 39 38 37 36 35 34 33 32 31 30 29 28 27 26 25 24 23 22 21 20 19 18 17 16 15 14 13 12 11 10 9 8 7 6 5 4 3 2 1 "
     ]
    }
   ],
   "source": [
    "n=int(input(\"enter the value of n\"))\n",
    "for i in range(1,n+1):\n",
    "    print(i,end=' ')\n",
    "for i in range(n,0,-1):\n",
    "    print(i,end=' ')"
   ]
  },
  {
   "cell_type": "code",
   "execution_count": 11,
   "id": "866c3f76-804e-4909-a80a-51a04b7e449e",
   "metadata": {},
   "outputs": [
    {
     "name": "stdin",
     "output_type": "stream",
     "text": [
      "enter the number to represent mulitiplication table 2\n"
     ]
    },
    {
     "name": "stdout",
     "output_type": "stream",
     "text": [
      "2 X 0 = 0\n",
      "2 X 1 = 2\n",
      "2 X 2 = 4\n",
      "2 X 3 = 6\n",
      "2 X 4 = 8\n",
      "2 X 5 = 10\n",
      "2 X 6 = 12\n",
      "2 X 7 = 14\n",
      "2 X 8 = 16\n",
      "2 X 9 = 18\n",
      "2 X 10 = 20\n",
      "2 X 11 = 22\n",
      "2 X 12 = 24\n",
      "2 X 13 = 26\n",
      "2 X 14 = 28\n",
      "2 X 15 = 30\n",
      "2 X 16 = 32\n",
      "2 X 17 = 34\n",
      "2 X 18 = 36\n",
      "2 X 19 = 38\n"
     ]
    }
   ],
   "source": [
    " n=int(input(\"enter the number to represent mulitiplication table\"))\n",
    "b=0\n",
    "for i in range(0,20):\n",
    "    b=n*i\n",
    "    print(n,\"X\",i,\"=\",b)\n"
   ]
  },
  {
   "cell_type": "code",
   "execution_count": 13,
   "id": "6593a6ad-5ec6-4d51-8957-6e58275b9756",
   "metadata": {
    "scrolled": true
   },
   "outputs": [
    {
     "name": "stdin",
     "output_type": "stream",
     "text": [
      "enter the starting year: 1900\n",
      "enter the ending year: 2028\n"
     ]
    },
    {
     "name": "stdout",
     "output_type": "stream",
     "text": [
      "1900 1904 1908 1912 1916 1920 1924 1928 1932 1936 1940 1944 1948 1952 1956 1960 1964 1968 1972 1976 1980 1984 1988 1992 1996 2000 2004 2008 2012 2016 2020 2024 2028 "
     ]
    }
   ],
   "source": [
    "s=int(input(\"enter the starting year:\"))\n",
    "e=int(input(\"enter the ending year:\"))\n",
    "for i in range (s,e+1):\n",
    "    if i%4==0:\n",
    "        print(i,end=' ')"
   ]
  },
  {
   "cell_type": "code",
   "execution_count": 15,
   "id": "8f21a2ed-fe56-4506-b2e0-3e472a4cde98",
   "metadata": {},
   "outputs": [
    {
     "name": "stdin",
     "output_type": "stream",
     "text": [
      "enter the value of n: 12\n"
     ]
    },
    {
     "name": "stdout",
     "output_type": "stream",
     "text": [
      "1.5649766384209025\n"
     ]
    }
   ],
   "source": [
    "n=int(input(\"enter the value of n:\"))\n",
    "s=0\n",
    "for i in range(1,n+1):\n",
    "    a=1/(i**2)\n",
    "    s=s+a\n",
    "print(s)"
   ]
  },
  {
   "cell_type": "code",
   "execution_count": 45,
   "id": "2e134ca0-9af0-48e5-961c-5fbc59ce135d",
   "metadata": {},
   "outputs": [
    {
     "name": "stdin",
     "output_type": "stream",
     "text": [
      "enter the start day of month(1-7): 3\n",
      "enter the number of days 30\n"
     ]
    },
    {
     "name": "stdout",
     "output_type": "stream",
     "text": [
      "SUN MON TUE WED THU FRI SAT\n",
      "---------------------------\n",
      "  1   2   3   4   5   \n",
      "6   7   8   9   10   11   12   \n",
      "13   14   15   16   17   18   19   \n",
      "20   21   22   23   24   25   26   \n",
      "27   28   29   30   "
     ]
    }
   ],
   "source": [
    "n=int(input(\"enter the start day of month(1-7):\"))\n",
    "p=int(input(\"enter the number of days\"))\n",
    "print(\"SUN MON TUE WED THU FRI SAT\")\n",
    "print(\"---------------------------\")\n",
    "for i in range(n-1):\n",
    "    print(end=\" \")\n",
    "i= n-1\n",
    "for j in range(1,p+1):\n",
    "    if i>6:\n",
    "        print()\n",
    "        i=1\n",
    "    else:\n",
    "        i+=1\n",
    " #a = str(j)\n",
    "    print(j,\" \",end=' ') "
   ]
  },
  {
   "cell_type": "code",
   "execution_count": null,
   "id": "1399aba1-f036-4bea-b23f-2d79580080e0",
   "metadata": {},
   "outputs": [],
   "source": []
  }
 ],
 "metadata": {
  "kernelspec": {
   "display_name": "Python 3 (ipykernel)",
   "language": "python",
   "name": "python3"
  },
  "language_info": {
   "codemirror_mode": {
    "name": "ipython",
    "version": 3
   },
   "file_extension": ".py",
   "mimetype": "text/x-python",
   "name": "python",
   "nbconvert_exporter": "python",
   "pygments_lexer": "ipython3",
   "version": "3.12.7"
  }
 },
 "nbformat": 4,
 "nbformat_minor": 5
}
