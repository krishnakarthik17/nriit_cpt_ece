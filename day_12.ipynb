{
 "cells": [
  {
   "cell_type": "code",
   "execution_count": 1,
   "id": "44116099-19bf-4014-b3b0-918f1ae9dcb5",
   "metadata": {},
   "outputs": [
    {
     "name": "stdin",
     "output_type": "stream",
     "text": [
      "enter terms: 9\n"
     ]
    },
    {
     "name": "stdout",
     "output_type": "stream",
     "text": [
      "0 1 1 2 3 5 8 13 21 "
     ]
    }
   ],
   "source": [
    "#fibinacci 1 1 2 3 5 8 13 21 34 55\n",
    "def fib(n):\n",
    "    if n<=1:\n",
    "        return n\n",
    "    else:\n",
    "        return fib(n-1)+fib(n-2)\n",
    "num=int(input(\"enter terms:\"))\n",
    "for i in range(num):\n",
    "    print(fib(i),end=' ')"
   ]
  },
  {
   "cell_type": "code",
   "execution_count": 3,
   "id": "283348a9-aba8-4d4a-8356-ceb011214bdd",
   "metadata": {},
   "outputs": [
    {
     "name": "stdin",
     "output_type": "stream",
     "text": [
      "enter a 4 digit number: 3478\n"
     ]
    },
    {
     "name": "stdout",
     "output_type": "stream",
     "text": [
      "sum of digtis: 22\n"
     ]
    }
   ],
   "source": [
    "#indirect recerssion\n",
    "def dsum(n):\n",
    "    if n==0:\n",
    "        return 0\n",
    "    return n%10 + temp(n//10)\n",
    "def temp(n):\n",
    "    return dsum(n)\n",
    "num=int(input(\"enter a 4 digit number:\"))\n",
    "print(\"sum of digtis:\",dsum(num))"
   ]
  },
  {
   "cell_type": "code",
   "execution_count": 7,
   "id": "1dd01f45-2b05-4cd6-9cc8-8af0a9ea9d4c",
   "metadata": {},
   "outputs": [
    {
     "name": "stdin",
     "output_type": "stream",
     "text": [
      "enter a number: 9\n"
     ]
    },
    {
     "name": "stdout",
     "output_type": "stream",
     "text": [
      "9 is odd\n"
     ]
    }
   ],
   "source": [
    "def one(n):\n",
    "    if n==0:\n",
    "        return True\n",
    "    else:\n",
    "        return two(n-1)\n",
    "def two(n):\n",
    "    if n==0:\n",
    "        return False\n",
    "    else:\n",
    "        return one(n-1)\n",
    "num=int(input(\"enter a number:\"))\n",
    "if one(num):\n",
    "    print(num,\"is even\")\n",
    "else:\n",
    "    print(num,\"is odd\")\n",
    "    "
   ]
  },
  {
   "cell_type": "code",
   "execution_count": 17,
   "id": "8592a72b-23fb-4066-84d9-ec11e42eae79",
   "metadata": {},
   "outputs": [
    {
     "name": "stdin",
     "output_type": "stream",
     "text": [
      "enter a number: 10\n"
     ]
    },
    {
     "name": "stdout",
     "output_type": "stream",
     "text": [
      "kittu 10\n",
      "krishna 9\n",
      "kittu 8\n",
      "krishna 7\n",
      "kittu 6\n",
      "krishna 5\n",
      "kittu 4\n",
      "krishna 3\n",
      "kittu 2\n",
      "krishna 1\n"
     ]
    }
   ],
   "source": [
    "def A(n):\n",
    "    if n<=0:\n",
    "        return\n",
    "    print(\"kittu\",n)\n",
    "    B(n-1)\n",
    "def B(n):\n",
    "    if n<=0:\n",
    "        return\n",
    "    print(\"krishna\",n)\n",
    "    A(n-1)\n",
    "num=int(input(\"enter a number:\"))\n",
    "A(num)\n"
   ]
  },
  {
   "cell_type": "code",
   "execution_count": 23,
   "id": "12d24a20-1139-476f-a58d-1fb35bb749e2",
   "metadata": {},
   "outputs": [
    {
     "name": "stdin",
     "output_type": "stream",
     "text": [
      "enter starting number: 9\n"
     ]
    },
    {
     "name": "stdout",
     "output_type": "stream",
     "text": [
      "\n",
      " player A's turn.current number9\n"
     ]
    },
    {
     "name": "stdin",
     "output_type": "stream",
     "text": [
      "player A,subract 1 or 2: 6\n",
      "player A,subract 1 or 2: 5\n",
      "player A,subract 1 or 2: 3\n",
      "player A,subract 1 or 2: 4\n",
      "player A,subract 1 or 2: 2\n"
     ]
    },
    {
     "name": "stdout",
     "output_type": "stream",
     "text": [
      "\n",
      " player B's turn.current number7\n"
     ]
    },
    {
     "name": "stdin",
     "output_type": "stream",
     "text": [
      "player A,subract 1 or 2: 2\n"
     ]
    },
    {
     "name": "stdout",
     "output_type": "stream",
     "text": [
      "\n",
      " player A's turn.current number5\n"
     ]
    },
    {
     "name": "stdin",
     "output_type": "stream",
     "text": [
      "player A,subract 1 or 2: 9\n",
      "player A,subract 1 or 2: 2\n"
     ]
    },
    {
     "name": "stdout",
     "output_type": "stream",
     "text": [
      "\n",
      " player B's turn.current number3\n"
     ]
    },
    {
     "name": "stdin",
     "output_type": "stream",
     "text": [
      "player A,subract 1 or 2: 4\n",
      "player A,subract 1 or 2: 1\n"
     ]
    },
    {
     "name": "stdout",
     "output_type": "stream",
     "text": [
      "\n",
      " player A's turn.current number2\n"
     ]
    },
    {
     "name": "stdin",
     "output_type": "stream",
     "text": [
      "player A,subract 1 or 2: 1\n"
     ]
    },
    {
     "name": "stdout",
     "output_type": "stream",
     "text": [
      "\n",
      " player B's turn.current number1\n"
     ]
    },
    {
     "name": "stdin",
     "output_type": "stream",
     "text": [
      "player A,subract 1 or 2: 2\n"
     ]
    },
    {
     "name": "stdout",
     "output_type": "stream",
     "text": [
      "player A reached 0!! Player A loses -1\n"
     ]
    }
   ],
   "source": [
    "def player_A(n):\n",
    "    if n<=0:\n",
    "        print(\"player A reached 0!! Player A loses\",n)\n",
    "        return\n",
    "    print(f\"\\n player A's turn.current number{n}\")\n",
    "    move=int(input(\"player A,subract 1 or 2:\"))\n",
    "    while move not in[1,2]:\n",
    "        move=int(input(\"player A,subract 1 or 2:\"))\n",
    "    player_B(n-move)\n",
    "def player_B(n):\n",
    "    if n<=0:\n",
    "        print(\"player B reched 0!! player B loses\")\n",
    "        return\n",
    "    print(f\"\\n player B's turn.current number{n}\")\n",
    "    move=int(input(\"player A,subract 1 or 2:\"))\n",
    "    while move not in[1,2]:\n",
    "        move=int(input(\"player A,subract 1 or 2:\"))\n",
    "    player_A(n-move)\n",
    "start=int(input(\"enter starting number:\"))\n",
    "player_A(start)\n",
    " "
   ]
  },
  {
   "cell_type": "code",
   "execution_count": null,
   "id": "b7384e18-8703-44bd-a891-1f054e1a94a9",
   "metadata": {},
   "outputs": [],
   "source": []
  }
 ],
 "metadata": {
  "kernelspec": {
   "display_name": "Python 3 (ipykernel)",
   "language": "python",
   "name": "python3"
  },
  "language_info": {
   "codemirror_mode": {
    "name": "ipython",
    "version": 3
   },
   "file_extension": ".py",
   "mimetype": "text/x-python",
   "name": "python",
   "nbconvert_exporter": "python",
   "pygments_lexer": "ipython3",
   "version": "3.12.7"
  }
 },
 "nbformat": 4,
 "nbformat_minor": 5
}
