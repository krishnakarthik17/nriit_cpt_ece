{
 "cells": [
  {
   "cell_type": "code",
   "execution_count": 1,
   "id": "6db97f00-be01-4e88-b965-9aa70c1c7afb",
   "metadata": {},
   "outputs": [
    {
     "name": "stdin",
     "output_type": "stream",
     "text": [
      "enter number of terms to print: 8\n"
     ]
    },
    {
     "name": "stdout",
     "output_type": "stream",
     "text": [
      "fibonacci series......\n",
      "0 1 1 2 3 5 8 13 "
     ]
    }
   ],
   "source": [
    "#fibon tree recursions 0 1 1 2 3 5 8\n",
    "\n",
    "def fib(n):\n",
    "    if n<=1:\n",
    "        return n\n",
    "    return fib(n-1)+fib(n-2)\n",
    "terms=int(input(\"enter number of terms to print:\"))\n",
    "print((\"fibonacci series......\"))\n",
    "for i in range(terms):\n",
    "    print(fib(i),end=' ')"
   ]
  },
  {
   "cell_type": "code",
   "execution_count": 5,
   "id": "e8e5ea6f-080a-4563-84f8-9e004879d692",
   "metadata": {},
   "outputs": [
    {
     "name": "stdin",
     "output_type": "stream",
     "text": [
      "enter a name kittu\n"
     ]
    },
    {
     "name": "stdout",
     "output_type": "stream",
     "text": [
      "possibilities of combinations....\n",
      " kittu\n",
      " kitt\n",
      " kitu\n",
      " kit\n",
      " kitu\n",
      " kit\n",
      " kiu\n",
      " ki\n",
      " kttu\n",
      " ktt\n",
      " ktu\n",
      " kt\n",
      " ktu\n",
      " kt\n",
      " ku\n",
      " k\n",
      " ittu\n",
      " itt\n",
      " itu\n",
      " it\n",
      " itu\n",
      " it\n",
      " iu\n",
      " i\n",
      " ttu\n",
      " tt\n",
      " tu\n",
      " t\n",
      " tu\n",
      " t\n",
      " u\n",
      " \n"
     ]
    }
   ],
   "source": [
    "#permuatations of char in tree recursion\n",
    "def permute(s,bucket=' '):\n",
    "    if not s:\n",
    "        print(bucket)\n",
    "        return\n",
    "    permute(s[1:],bucket + s[0])\n",
    "    permute(s[1:],bucket)\n",
    "        \n",
    "\n",
    "text=input(\"enter a name\")\n",
    "print(\"possibilities of combinations....\")\n",
    "permute(text)"
   ]
  },
  {
   "cell_type": "code",
   "execution_count": 9,
   "id": "65b7b6d6-4200-45e7-9049-f1190a18802c",
   "metadata": {},
   "outputs": [
    {
     "name": "stdin",
     "output_type": "stream",
     "text": [
      "enter a name abd\n"
     ]
    },
    {
     "name": "stdout",
     "output_type": "stream",
     "text": [
      "possibilities of combinations....\n",
      " abd\n",
      " adb\n",
      " bad\n",
      " bda\n",
      " dab\n",
      " dba\n"
     ]
    }
   ],
   "source": [
    "def permute(s,bucket=' '):\n",
    "    if not s:\n",
    "        print(bucket)\n",
    "        return\n",
    "    for i in range(len(s)):\n",
    "        ns=s[:i]+s[i+1:]\n",
    "        permute(ns,bucket+s[i])\n",
    "text=input(\"enter a name\")\n",
    "print(\"possibilities of combinations....\")\n",
    "permute(text)"
   ]
  },
  {
   "cell_type": "code",
   "execution_count": 15,
   "id": "096bd7e4-fd66-47b2-a7e6-b46dabe51d30",
   "metadata": {},
   "outputs": [
    {
     "name": "stdin",
     "output_type": "stream",
     "text": [
      "enter length of string: 3\n"
     ]
    },
    {
     "name": "stdout",
     "output_type": "stream",
     "text": [
      "binary combinations.....\n",
      "000\n",
      "001\n",
      "010\n",
      "011\n",
      "100\n",
      "101\n",
      "110\n",
      "111\n"
     ]
    }
   ],
   "source": [
    "def binary (n,b=''):\n",
    "    if n==0:\n",
    "        print(b)\n",
    "        return\n",
    "    binary(n-1,b+'0')\n",
    "    binary(n-1,b+'1')\n",
    "\n",
    "length= int(input(\"enter length of string:\"))\n",
    "print(\"binary combinations.....\")\n",
    "binary(length)"
   ]
  },
  {
   "cell_type": "code",
   "execution_count": 21,
   "id": "b2fc2ec9-5feb-4e58-89ac-b47761b98d5f",
   "metadata": {},
   "outputs": [
    {
     "name": "stdin",
     "output_type": "stream",
     "text": [
      "enter a number: 5\n"
     ]
    },
    {
     "name": "stdout",
     "output_type": "stream",
     "text": [
      "1\n",
      "2\n",
      "3\n",
      "4\n",
      "5\n"
     ]
    }
   ],
   "source": [
    "def head(n):\n",
    "    if n==0:\n",
    "        return\n",
    "    head(n-1)\n",
    "    print(n)\n",
    "num=int(input(\"enter a number:\"))\n",
    "head(num)"
   ]
  },
  {
   "cell_type": "code",
   "execution_count": 23,
   "id": "a0086562-7fdb-4c1f-be3a-87f790159bd0",
   "metadata": {},
   "outputs": [
    {
     "name": "stdin",
     "output_type": "stream",
     "text": [
      "enter a number: 6\n"
     ]
    },
    {
     "name": "stdout",
     "output_type": "stream",
     "text": [
      "sum: 21\n"
     ]
    },
    {
     "name": "stdin",
     "output_type": "stream",
     "text": [
      "enter a number: 7\n"
     ]
    },
    {
     "name": "stdout",
     "output_type": "stream",
     "text": [
      "sum: 28\n"
     ]
    }
   ],
   "source": [
    "def sumhead(n):\n",
    "    if n==0:\n",
    "        return 0\n",
    "    return n+sumhead(n-1)\n",
    "num=int(input(\"enter a number:\"))\n",
    "print(\"sum:\",sumhead(num))\n",
    "def sumtail(n,temp=0):\n",
    "    if n==0:\n",
    "        return temp\n",
    "    return sumtail(n-1,temp+n)\n",
    "num=int(input(\"enter a number:\"))\n",
    "print(\"sum:\",sumtail(num))"
   ]
  },
  {
   "cell_type": "code",
   "execution_count": null,
   "id": "2d25062f-4bf7-4e87-98f0-689b93f0148a",
   "metadata": {},
   "outputs": [],
   "source": []
  }
 ],
 "metadata": {
  "kernelspec": {
   "display_name": "Python 3 (ipykernel)",
   "language": "python",
   "name": "python3"
  },
  "language_info": {
   "codemirror_mode": {
    "name": "ipython",
    "version": 3
   },
   "file_extension": ".py",
   "mimetype": "text/x-python",
   "name": "python",
   "nbconvert_exporter": "python",
   "pygments_lexer": "ipython3",
   "version": "3.12.7"
  }
 },
 "nbformat": 4,
 "nbformat_minor": 5
}
