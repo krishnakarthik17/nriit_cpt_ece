{
 "cells": [
  {
   "cell_type": "code",
   "execution_count": 3,
   "id": "0497b7dd-f12f-4f6c-bce1-2b164fbbbf9d",
   "metadata": {},
   "outputs": [
    {
     "name": "stdin",
     "output_type": "stream",
     "text": [
      "enter the size of n 5\n"
     ]
    },
    {
     "name": "stdout",
     "output_type": "stream",
     "text": [
      "\n",
      "* \n",
      "* * \n",
      "* * * \n",
      "* * * * \n"
     ]
    }
   ],
   "source": [
    "#nested loops\n",
    "n=int(input(\"enter the size of n\"))\n",
    "for i in range(n):\n",
    "    for j in range(i):\n",
    "        print('*',end=' ')\n",
    "    print()"
   ]
  },
  {
   "cell_type": "code",
   "execution_count": 5,
   "id": "8c2fd8ed-1557-4d5b-8cc1-f3d4cf5402ff",
   "metadata": {},
   "outputs": [
    {
     "name": "stdout",
     "output_type": "stream",
     "text": [
      "\n",
      "*\n",
      "**\n",
      "***\n",
      "****\n",
      "*****\n",
      "******\n",
      "*******\n",
      "********\n",
      "*********\n",
      "**********\n"
     ]
    }
   ],
   "source": [
    "#right angled triangle using a single for loop\n",
    "for i in range(11):\n",
    "    print(\"*\" *i)"
   ]
  },
  {
   "cell_type": "code",
   "execution_count": 7,
   "id": "9537f32e-a0a3-4f4b-8fd1-c1146bbed546",
   "metadata": {},
   "outputs": [
    {
     "name": "stdout",
     "output_type": "stream",
     "text": [
      "15\n",
      "15\n",
      "15\n",
      "15\n",
      "15\n",
      "15\n"
     ]
    }
   ],
   "source": [
    "for i in range(6):\n",
    "    print(j*5)"
   ]
  },
  {
   "cell_type": "code",
   "execution_count": 9,
   "id": "2e5e7baf-72ec-407b-b26c-7d15c881c041",
   "metadata": {},
   "outputs": [
    {
     "name": "stdin",
     "output_type": "stream",
     "text": [
      "enter the size of n 3\n"
     ]
    },
    {
     "name": "stdout",
     "output_type": "stream",
     "text": [
      "^ \n",
      "^ \n",
      "^ \n"
     ]
    }
   ],
   "source": [
    "n=int(input(\"enter the size of n\"))\n",
    "for i in range(n):\n",
    "    for j in range(i):\n",
    "        if i==0 or i==n-1 or j==0 or j==n-1:\n",
    "            print('^',end=' ')\n",
    "        else:\n",
    "            print(' ',end=' ')\n",
    "        print()\n",
    "        "
   ]
  },
  {
   "cell_type": "code",
   "execution_count": 11,
   "id": "036c9d3f-5ed1-4388-908b-e3573a69385c",
   "metadata": {},
   "outputs": [
    {
     "name": "stdin",
     "output_type": "stream",
     "text": [
      "enter the size of n 5\n"
     ]
    },
    {
     "name": "stdout",
     "output_type": "stream",
     "text": [
      "^ \n",
      "^ \n",
      "^ \n",
      "^ \n",
      "^ \n",
      "^ \n",
      "  \n",
      "  \n",
      "  \n",
      "^ \n",
      "^ \n",
      "  \n",
      "  \n",
      "  \n",
      "^ \n",
      "^ \n",
      "  \n",
      "  \n",
      "  \n",
      "^ \n",
      "^ \n",
      "^ \n",
      "^ \n",
      "^ \n",
      "^ \n"
     ]
    }
   ],
   "source": [
    "n=int(input(\"enter the size of n\"))\n",
    "for i in range(n):\n",
    "    for j in range(n):\n",
    "        if i==0 or i==n-1 or j==0 or j==n-1:\n",
    "            print('^',end=' ')\n",
    "        else:\n",
    "            print(' ',end=' ')\n",
    "        print()\n",
    "        "
   ]
  },
  {
   "cell_type": "code",
   "execution_count": 13,
   "id": "9b589a55-ba7a-4523-91b4-c911eeda52b9",
   "metadata": {},
   "outputs": [
    {
     "name": "stdin",
     "output_type": "stream",
     "text": [
      "enter the size of n 8\n"
     ]
    },
    {
     "name": "stdout",
     "output_type": "stream",
     "text": [
      "^ ^ ^ ^ ^ ^ ^ ^ \n",
      "^             ^ \n",
      "^             ^ \n",
      "^             ^ \n",
      "^             ^ \n",
      "^             ^ \n",
      "^             ^ \n",
      "^ ^ ^ ^ ^ ^ ^ ^ \n"
     ]
    }
   ],
   "source": [
    "n=int(input(\"enter the size of n\"))\n",
    "for i in range(n):\n",
    "    for j in range(n):\n",
    "        if i==0 or i==n-1 or j==0 or j==n-1:\n",
    "            print('^',end=' ')\n",
    "        else:\n",
    "            print(' ',end=' ')\n",
    "    print()    "
   ]
  },
  {
   "cell_type": "code",
   "execution_count": 15,
   "id": "ec6ecf65-a1c8-4e57-b684-849f8f44477c",
   "metadata": {},
   "outputs": [
    {
     "name": "stdout",
     "output_type": "stream",
     "text": [
      "k \n",
      "k r \n",
      "k r i \n",
      "k r i s \n",
      "k r i s h \n",
      "k r i s h n \n",
      "k r i s h n a \n"
     ]
    }
   ],
   "source": [
    "text='krishna'\n",
    "r=len(text)\n",
    "for i in range(r):\n",
    "    for j in range(i+1):\n",
    "        print(text[j],end=' ')\n",
    "    print()"
   ]
  },
  {
   "cell_type": "code",
   "execution_count": 19,
   "id": "3f5e8841-7713-4a92-9666-ac2d40fb55ac",
   "metadata": {},
   "outputs": [
    {
     "name": "stdout",
     "output_type": "stream",
     "text": [
      "\n",
      "\n",
      "r \n",
      "r i \n",
      "r i s \n",
      "r i s h \n",
      "r i s h w \n",
      "r i s h w a \n",
      "r i s h w a n \n"
     ]
    }
   ],
   "source": [
    "text='rishwanth'\n",
    "r=len(text)\n",
    "for i in range(r):\n",
    "    for j in range(i-1):\n",
    "        print(text[j],end=' ')\n",
    "    print()"
   ]
  },
  {
   "cell_type": "code",
   "execution_count": 21,
   "id": "fa678ddf-5630-4d8d-a4d1-d6df9e526533",
   "metadata": {},
   "outputs": [
    {
     "name": "stdout",
     "output_type": "stream",
     "text": [
      "* \n",
      "* * \n",
      "* * * \n",
      "* * * * \n",
      "* * * * * \n",
      "* * * * * * \n",
      "* * * * * * * \n",
      "* * * * * * * * \n",
      "* * * * * * * * * \n"
     ]
    }
   ],
   "source": [
    "n=5\n",
    "for i in range(1,2*n):\n",
    "    s=i if 1<=n else 2*n-i\n",
    "    for j in range(s):\n",
    "        print(\"*\",end=' ')\n",
    "    print()"
   ]
  },
  {
   "cell_type": "code",
   "execution_count": 23,
   "id": "bcf9e71e-6988-4001-93cb-dad40f96e53f",
   "metadata": {},
   "outputs": [
    {
     "name": "stdout",
     "output_type": "stream",
     "text": [
      "        * \n",
      "      * * * \n",
      "    * * * * * \n",
      "  * * * * * * * \n",
      "* * * * * * * * * \n"
     ]
    }
   ],
   "source": [
    "n=5\n",
    "for i in range(1,n+1):\n",
    "    for s in range(n-i):\n",
    "        print(' ',end=' ')\n",
    "    for st in range(2*i-1):\n",
    "        print('*',end=' ')\n",
    "    print()"
   ]
  },
  {
   "cell_type": "code",
   "execution_count": 33,
   "id": "00fde16b-465e-40f7-ab4e-d1ae6e7bc67f",
   "metadata": {},
   "outputs": [
    {
     "name": "stdout",
     "output_type": "stream",
     "text": [
      "                  1   \n",
      "                1   1   \n",
      "              1   2   1   \n",
      "            1   3   3   1   \n",
      "          1   4   6   4   1   \n",
      "        1   5   10   10   5   1   \n",
      "      1   6   15   20   15   6   1   \n",
      "    1   7   21   35   35   21   7   1   \n",
      "  1   8   28   56   70   56   28   8   1   \n",
      "1   9   36   84   126   126   84   36   9   1   \n"
     ]
    }
   ],
   "source": [
    "n=10\n",
    "for i in range(n):\n",
    "    for s in range(n-i-1):\n",
    "        print(' ',end=' ')\n",
    "    num=1\n",
    "    for j in range(i+1):\n",
    "        print(f\"{num}  \",end=' ')\n",
    "        num=num*(i-j)//(j+1)\n",
    "    print()"
   ]
  },
  {
   "cell_type": "code",
   "execution_count": null,
   "id": "dd5f67a3-200d-4021-8750-e112122d33b3",
   "metadata": {},
   "outputs": [],
   "source": [
    "r=18"
   ]
  }
 ],
 "metadata": {
  "kernelspec": {
   "display_name": "Python 3 (ipykernel)",
   "language": "python",
   "name": "python3"
  },
  "language_info": {
   "codemirror_mode": {
    "name": "ipython",
    "version": 3
   },
   "file_extension": ".py",
   "mimetype": "text/x-python",
   "name": "python",
   "nbconvert_exporter": "python",
   "pygments_lexer": "ipython3",
   "version": "3.12.7"
  }
 },
 "nbformat": 4,
 "nbformat_minor": 5
}
